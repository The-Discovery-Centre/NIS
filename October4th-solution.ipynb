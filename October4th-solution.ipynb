{
 "cells": [
  {
   "cell_type": "markdown",
   "metadata": {},
   "source": [
    "# Dataset\n",
    "    \n",
    "    id | name    | math   | english | Kiswahili | Physics\n",
    "    -----------------------------------------------------\n",
    "    1. | Gift    |   3    |   7     |   8       |   9\n",
    "    2. | Krishna |   10   |   8     |   8       |   10\n",
    "    3. | Ethos   |   5    |   1     |   2       |   6\n",
    "    4. | Thanos  |   8    |   10    |   9       |   9 \n"
   ]
  },
  {
   "cell_type": "code",
   "execution_count": 1,
   "metadata": {},
   "outputs": [],
   "source": [
    "myList = [\n",
    "    ['Gift', 3, 7, 8, 9],\n",
    "    ['Krishna', 10, 8, 8, 10],\n",
    "    ['Ethos', 5, 1, 2, 6],\n",
    "    ['Thanos', 8, 10, 9, 9]\n",
    "]"
   ]
  },
  {
   "cell_type": "code",
   "execution_count": 2,
   "metadata": {},
   "outputs": [
    {
     "name": "stdout",
     "output_type": "stream",
     "text": [
      "[['Gift', 3, 7, 8, 9], ['Krishna', 10, 8, 8, 10], ['Ethos', 5, 1, 2, 6], ['Thanos', 8, 10, 9, 9]]\n"
     ]
    }
   ],
   "source": [
    "print(myList)"
   ]
  },
  {
   "cell_type": "markdown",
   "metadata": {},
   "source": [
    "# Challenge\n",
    "\n",
    "Make a program such that the output is: \n",
    "\n",
    "    Gift got 3 in math, 7 in english, 8 in kiswahili and 9 in physics. Total is 27\n",
    "    .\n",
    "    .\n",
    "    .\n",
    "    \n",
    "    Thanos got 8 in math, 10 in english, 9 in kiswahili and 9 in physics. Total is 36\n",
    "    \n",
    "# Solution"
   ]
  },
  {
   "cell_type": "code",
   "execution_count": 3,
   "metadata": {},
   "outputs": [
    {
     "name": "stdout",
     "output_type": "stream",
     "text": [
      "Gift got 3 in math, 7 in english, 8 in kiswahili and 9 in physics. Total is 27\n",
      "Krishna got 10 in math, 8 in english, 8 in kiswahili and 10 in physics. Total is 36\n",
      "Ethos got 5 in math, 1 in english, 2 in kiswahili and 6 in physics. Total is 14\n",
      "Thanos got 8 in math, 10 in english, 9 in kiswahili and 9 in physics. Total is 36\n"
     ]
    }
   ],
   "source": [
    "for item in myList:\n",
    "    name = item[0]\n",
    "    math = item[1]\n",
    "    english = item[2]\n",
    "    kiswahili = item[3]\n",
    "    physics = item[4]\n",
    "    \n",
    "    # calculate total marks\n",
    "    total = math + english + kiswahili + physics\n",
    "    \n",
    "    \n",
    "    print(\"{} got {} in math, {} in english, {} in kiswahili and {} in physics. Total is {}\".format(name,math,english,kiswahili,physics, total))"
   ]
  },
  {
   "cell_type": "markdown",
   "metadata": {},
   "source": [
    "### ???"
   ]
  }
 ],
 "metadata": {
  "kernelspec": {
   "display_name": "Python 3",
   "language": "python",
   "name": "python3"
  },
  "language_info": {
   "codemirror_mode": {
    "name": "ipython",
    "version": 3
   },
   "file_extension": ".py",
   "mimetype": "text/x-python",
   "name": "python",
   "nbconvert_exporter": "python",
   "pygments_lexer": "ipython3",
   "version": "3.7.3"
  }
 },
 "nbformat": 4,
 "nbformat_minor": 2
}
